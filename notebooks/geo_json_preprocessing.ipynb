{
 "cells": [
  {
   "cell_type": "code",
   "execution_count": 3,
   "metadata": {},
   "outputs": [
    {
     "data": {
      "text/html": [
       "<div>\n",
       "<style scoped>\n",
       "    .dataframe tbody tr th:only-of-type {\n",
       "        vertical-align: middle;\n",
       "    }\n",
       "\n",
       "    .dataframe tbody tr th {\n",
       "        vertical-align: top;\n",
       "    }\n",
       "\n",
       "    .dataframe thead th {\n",
       "        text-align: right;\n",
       "    }\n",
       "</style>\n",
       "<table border=\"1\" class=\"dataframe\">\n",
       "  <thead>\n",
       "    <tr style=\"text-align: right;\">\n",
       "      <th></th>\n",
       "      <th>id</th>\n",
       "      <th>name</th>\n",
       "      <th>geometry</th>\n",
       "    </tr>\n",
       "  </thead>\n",
       "  <tbody>\n",
       "    <tr>\n",
       "      <th>0</th>\n",
       "      <td>AFG</td>\n",
       "      <td>Afghanistan</td>\n",
       "      <td>POLYGON ((61.21082 35.65007, 62.23065 35.27066...</td>\n",
       "    </tr>\n",
       "    <tr>\n",
       "      <th>1</th>\n",
       "      <td>AGO</td>\n",
       "      <td>Angola</td>\n",
       "      <td>MULTIPOLYGON (((16.32653 -5.87747, 16.57318 -6...</td>\n",
       "    </tr>\n",
       "    <tr>\n",
       "      <th>2</th>\n",
       "      <td>ALB</td>\n",
       "      <td>Albania</td>\n",
       "      <td>POLYGON ((20.59025 41.85540, 20.46317 41.51509...</td>\n",
       "    </tr>\n",
       "    <tr>\n",
       "      <th>3</th>\n",
       "      <td>ARE</td>\n",
       "      <td>United Arab Emirates</td>\n",
       "      <td>POLYGON ((51.57952 24.24550, 51.75744 24.29407...</td>\n",
       "    </tr>\n",
       "    <tr>\n",
       "      <th>4</th>\n",
       "      <td>ARG</td>\n",
       "      <td>Argentina</td>\n",
       "      <td>MULTIPOLYGON (((-65.50000 -55.20000, -66.45000...</td>\n",
       "    </tr>\n",
       "  </tbody>\n",
       "</table>\n",
       "</div>"
      ],
      "text/plain": [
       "    id                  name  \\\n",
       "0  AFG           Afghanistan   \n",
       "1  AGO                Angola   \n",
       "2  ALB               Albania   \n",
       "3  ARE  United Arab Emirates   \n",
       "4  ARG             Argentina   \n",
       "\n",
       "                                            geometry  \n",
       "0  POLYGON ((61.21082 35.65007, 62.23065 35.27066...  \n",
       "1  MULTIPOLYGON (((16.32653 -5.87747, 16.57318 -6...  \n",
       "2  POLYGON ((20.59025 41.85540, 20.46317 41.51509...  \n",
       "3  POLYGON ((51.57952 24.24550, 51.75744 24.29407...  \n",
       "4  MULTIPOLYGON (((-65.50000 -55.20000, -66.45000...  "
      ]
     },
     "execution_count": 3,
     "metadata": {},
     "output_type": "execute_result"
    }
   ],
   "source": [
    "import geopandas as gpd\n",
    "\n",
    "# Load the GeoJSON file\n",
    "#geo_df = gpd.read_file(r'C:\\Users\\mrosk\\OneDrive\\Desktop\\eda-visualization-country\\data\\geoBoundariesCGAZ_ADM0.geojson')\n",
    "geo_df = gpd.read_file('https://raw.githubusercontent.com/python-visualization/folium/master/examples/data/world-countries.json')\n",
    "\n",
    "import pandas as pd\n",
    "\n",
    "# Load your CSV file into a DataFrame\n",
    "df = pd.read_csv(r'C:\\Users\\mrosk\\OneDrive\\Desktop\\eda-visualization-country\\data\\cleaned_global_country_data.csv')\n",
    "\n",
    "# Extract the country names from your CSV\n",
    "csv_countries = df['Country']\n",
    "\n",
    "geo_df.head()\n"
   ]
  },
  {
   "cell_type": "code",
   "execution_count": 4,
   "metadata": {},
   "outputs": [
    {
     "name": "stdout",
     "output_type": "stream",
     "text": [
      "Mismatched countries in GeoJSON: ['Antarctica', 'French Southern and Antarctic Lands', 'Northern Cyprus', 'Falkland Islands', 'Gambia', 'Guinea Bissau', 'Greenland', 'Ireland', 'Kosovo', 'Macedonia', 'New Caledonia', 'Puerto Rico', 'Western Sahara', 'Somaliland', 'Republic of Serbia', 'Swaziland', 'East Timor', 'Taiwan', 'United Republic of Tanzania', 'United States of America', 'West Bank']\n"
     ]
    }
   ],
   "source": [
    "# Extract the country names from the GeoJSON file\n",
    "geo_countries = geo_df['name']\n",
    "\n",
    "# Compare the names to find mismatches\n",
    "mismatches = pd.DataFrame({\n",
    "    'GeoJSON_Country': geo_countries,\n",
    "    'In_CSV': geo_countries.isin(csv_countries)\n",
    "})\n",
    "\n",
    "# Filter out the mismatched countries\n",
    "mismatched_countries = mismatches[mismatches['In_CSV'] == False]\n",
    "print(\"Mismatched countries in GeoJSON:\", mismatched_countries['GeoJSON_Country'].tolist())\n",
    "\n"
   ]
  },
  {
   "cell_type": "code",
   "execution_count": 3,
   "metadata": {},
   "outputs": [],
   "source": [
    "# drop_list = ['Antarctica', 'Greenland', 'French Southern and Antarctic Lands', 'Northern Cyprus', 'Falkland Islands']\n",
    "\n",
    "# geo_df = geo_df[~geo_df['name'].isin(drop_list)]"
   ]
  },
  {
   "cell_type": "code",
   "execution_count": 5,
   "metadata": {},
   "outputs": [],
   "source": [
    "rename_dict = {\n",
    "    \"Gambia\": \"The Gambia\",\n",
    "    \"Guinea Bissau\": \"Guinea-Bissau\",\n",
    "    \"Ireland\": \"Republic of Ireland\",\n",
    "    \"Macedonia\": \"North Macedonia\",\n",
    "    \"Western Sahara\": \"Morocco\",\n",
    "    \"Somaliland\": \"Somalia\",\n",
    "    \"Republic of Serbia\": \"Serbia\",\n",
    "    \"Swaziland\": \"Eswatini\",\n",
    "    \"East Timor\": \"Timor-Leste\",\n",
    "    \"United Republic of Tanzania\": \"Tanzania\",\n",
    "    \"United States of America\": \"United States\"\n",
    "}\n",
    "\n",
    "geo_df['name'] = geo_df['name'].replace(rename_dict)"
   ]
  },
  {
   "cell_type": "code",
   "execution_count": 6,
   "metadata": {},
   "outputs": [],
   "source": [
    "geo_df.to_file(r'C:\\Users\\mrosk\\OneDrive\\Desktop\\eda-visualization-country\\data\\modified_boundaries.geojson', driver='GeoJSON')"
   ]
  },
  {
   "cell_type": "code",
   "execution_count": null,
   "metadata": {},
   "outputs": [],
   "source": []
  }
 ],
 "metadata": {
  "kernelspec": {
   "display_name": "ml311",
   "language": "python",
   "name": "python3"
  },
  "language_info": {
   "codemirror_mode": {
    "name": "ipython",
    "version": 3
   },
   "file_extension": ".py",
   "mimetype": "text/x-python",
   "name": "python",
   "nbconvert_exporter": "python",
   "pygments_lexer": "ipython3",
   "version": "3.11.7"
  }
 },
 "nbformat": 4,
 "nbformat_minor": 2
}
